{
 "cells": [
  {
   "cell_type": "code",
   "execution_count": 1,
   "metadata": {},
   "outputs": [],
   "source": [
    "import talib\n",
    "import numpy as np\n",
    "import requests\n",
    "import pandas as pd\n",
    "import time\n",
    "import datetime\n",
    "from ciso8601 import parse_datetime\n",
    "\n",
    "from ftx_client import FtxClient"
   ]
  },
  {
   "cell_type": "markdown",
   "metadata": {},
   "source": [
    "### Notes\n",
    "\n",
    "- Currently, the price is the last traded price. We may want to change it to the average price in the last window"
   ]
  },
  {
   "cell_type": "markdown",
   "metadata": {},
   "source": [
    "### Api keys and inits"
   ]
  },
  {
   "cell_type": "code",
   "execution_count": 2,
   "metadata": {},
   "outputs": [],
   "source": [
    "# api_key_test = 'wiYFjNZa8vQZ00HVlvviBZU8KlUk3P9BsOaFNgWQ'\n",
    "# api_secret_test = 'FV3I-fMloT9dVIO5W1twDUZA385Q06VDjrN2mqeV'\n",
    "api_key = '4MZCayt-zZKp3QQFOBgPFdwOK5B1zoxJPMeFAGKz'\n",
    "api_secret = 'cfQxfctS5j7lR0iq-iGsiItt4znrH9P4AkF-IzMH'\n",
    "\n",
    "# with open('api_keys.txt', 'r') as f:\n",
    "#     lines = [x.rstrip('\\n') for x in f.readlines()]\n",
    "#     api_key = lines[0]\n",
    "#     api_secret = lines[1]\n",
    "\n",
    "curr_pairs = ['BTC', 'USD']\n",
    "curr_symbol = '{}/{}'.format(curr_pairs[0], curr_pairs[1])\n",
    "rsi_resolution = 900 # 15 minutes in seconds\n",
    "\n",
    "logfile = 'ftx_log.log'\n",
    "with open(logfile, 'w') as f:\n",
    "    pass\n",
    "\n",
    "client = FtxClient(api_key=api_key, api_secret=api_secret)"
   ]
  },
  {
   "cell_type": "markdown",
   "metadata": {},
   "source": [
    "### Utility Functions"
   ]
  },
  {
   "cell_type": "code",
   "execution_count": 3,
   "metadata": {},
   "outputs": [],
   "source": [
    "def logTrade(oldBalance, newBalance, branch, enterTime, enterPrice, exitPrice, orderid):\n",
    "    with open(logfile, 'a') as f:\n",
    "        f.write(f'oldBalance: {oldBalance}, newBalance: {newBalance}, branch: {branch}, enterTime: {enterTime}, enterPrice: {enterPrice}, exitPrice: {exitPrice}, orderid: {orderid}\\n')\n",
    "        \n",
    "def Stoch(close,high,low, smoothk, smoothd, n):\n",
    "    lowestlow = pd.Series.rolling(low,window=n,center=False).min()\n",
    "    highesthigh = pd.Series.rolling(high, window=n, center=False).max()\n",
    "    K = pd.Series.rolling(100*((close-lowestlow)/(highesthigh-lowestlow)), window=smoothk).mean()\n",
    "    D = pd.Series.rolling(K, window=smoothd).mean()\n",
    "\n",
    "    return K, D\n",
    "\n",
    "def get_RSI_df():\n",
    "#     candles = client.get_klines(symbol=curr_symbol, interval=Client.KLINE_INTERVAL_15MINUTE)\n",
    "    candles = client.get_candles(curr_symbol, rsi_resolution)\n",
    "    opens = [x['open'] for x in candles]\n",
    "    closes = [x['close'] for x in candles]\n",
    "    highs = [x['high'] for x in candles]\n",
    "    lows = [x['low'] for x in candles]\n",
    "    startTimes = [x['time'] for x in candles]\n",
    "    volumes = [x['volume'] for x in candles]\n",
    "    df = pd.DataFrame(list(zip(opens, closes, highs, lows, startTimes, volumes)), columns=['open', 'close', 'high', 'low', 'startTime', 'volume'])\n",
    "#     df.columns=['timestart','open','high','low','close','?','timeend','?','?','?','?','?']\n",
    "#     df.timestart = [datetime.datetime.fromtimestamp(i/1000) for i in df.timestart.values]\n",
    "#     df.timeend = [datetime.datetime.fromtimestamp(i/1000) for i in df.timeend.values]\n",
    "    \n",
    "    float_data = [float(x) for x in df.close.values]\n",
    "    np_float_data = np.array(float_data)\n",
    "    rsi = talib.RSI(np_float_data, 14)\n",
    "    df['rsi'] = rsi\n",
    "#     print('rsi: ', df['rsi'].astype(float).iloc[-1])\n",
    "\n",
    "    stochrsi = Stoch(df.rsi, df.rsi, df.rsi, 3, 3, 14)\n",
    "    df['StochrsiK'],df['StochrsiD'] = stochrsi\n",
    "#     print('stochrsiK: ', df['StochrsiK'])\n",
    "    \n",
    "    return df\n",
    "\n",
    "def get_RSI():\n",
    "    df = get_RSI_df()\n",
    "    newestK = df.StochrsiK.astype(float).iloc[-1]\n",
    "    return newestK\n",
    "\n",
    "def print_log(s):\n",
    "    print(s)\n",
    "    with open(logfile, 'a') as f:\n",
    "        f.write(s + '\\n')"
   ]
  },
  {
   "cell_type": "markdown",
   "metadata": {},
   "source": [
    "### Testing (Check balance)"
   ]
  },
  {
   "cell_type": "code",
   "execution_count": 28,
   "metadata": {},
   "outputs": [
    {
     "name": "stdout",
     "output_type": "stream",
     "text": [
      "10845.0\n",
      "{'backstopProvider': False, 'chargeInterestOnNegativeUsd': False, 'collateral': 2644.0402874987094, 'freeCollateral': 2644.032386933079, 'initialMarginRequirement': 0.1, 'leverage': 10.0, 'liquidating': False, 'maintenanceMarginRequirement': 0.03, 'makerFee': 0.0, 'marginFraction': None, 'openMarginFraction': None, 'positionLimit': None, 'positionLimitUsed': None, 'positions': [], 'spotLendingEnabled': False, 'spotMarginEnabled': False, 'takerFee': 0.0007, 'totalAccountValue': 2644.0402874987094, 'totalPositionSize': 0.0, 'useFttCollateral': True, 'username': 'quant@sminem.com'}\n",
      "\n",
      "hi,  2643.73216562\n",
      "bye,  [{'coin': 'BTC', 'free': 2.913e-05, 'total': 2.913e-05, 'usdValue': 0.3160224348199368}, {'coin': 'USD', 'free': 2643.73216562, 'total': 2643.73216562, 'usdValue': 2643.73216562476}]\n",
      "\n",
      "1500\n",
      "{'close': 11887.5, 'high': 11892.0, 'low': 11863.0, 'open': 11891.5, 'startTime': '2020-09-02T02:00:00+00:00', 'time': 1599012000000.0, 'volume': 80078.8868}\n",
      "1599012000.0\n",
      "76.28736269141676\n",
      "#############\n",
      "\n"
     ]
    }
   ],
   "source": [
    "price = client.get_price(curr_symbol)\n",
    "print(price)\n",
    "print(client.get_account_info())\n",
    "print()\n",
    "print('hi, ', client.get_balance(curr_pairs[1]))\n",
    "print('bye, ', client.get_balances())\n",
    "print()\n",
    "candles = client.get_candles(curr_symbol, rsi_resolution)\n",
    "print(len(candles))\n",
    "print(candles[3])\n",
    "print(parse_datetime(candles[3]['startTime']).timestamp())\n",
    "print(get_RSI())\n",
    "print('#############')\n",
    "print()\n",
    "# print(client.get_order_status(7204332489))"
   ]
  },
  {
   "cell_type": "markdown",
   "metadata": {},
   "source": [
    "### Testing (Place/cancel order)"
   ]
  },
  {
   "cell_type": "code",
   "execution_count": 27,
   "metadata": {},
   "outputs": [
    {
     "name": "stdout",
     "output_type": "stream",
     "text": [
      "10850.0\n",
      "res:  {'avgFillPrice': None, 'clientId': None, 'createdAt': '2020-09-17T16:10:39.034129+00:00', 'filledSize': 0.0, 'future': None, 'id': 9899980860, 'ioc': False, 'liquidation': False, 'market': 'BTC/USD', 'postOnly': False, 'price': 10844.5, 'reduceOnly': False, 'remainingSize': 0.2439, 'side': 'sell', 'size': 0.2439, 'status': 'new', 'type': 'limit'}\n"
     ]
    },
    {
     "data": {
      "text/plain": [
       "9899980860"
      ]
     },
     "execution_count": 27,
     "metadata": {},
     "output_type": "execute_result"
    }
   ],
   "source": [
    "# Place order\n",
    "print(price)\n",
    "# enterLong(price)\n",
    "exitLong()\n",
    "# client.cancel_order(7226227238)"
   ]
  },
  {
   "cell_type": "markdown",
   "metadata": {},
   "source": [
    "### Testing (Check open orders, order history)"
   ]
  },
  {
   "cell_type": "code",
   "execution_count": 29,
   "metadata": {},
   "outputs": [
    {
     "name": "stdout",
     "output_type": "stream",
     "text": [
      "open orders:  []\n",
      "7\n",
      "[{'avgFillPrice': 10845.0, 'clientId': None, 'createdAt': '2020-09-17T16:10:39.034129+00:00', 'filledSize': 0.2439, 'future': None, 'id': 9899980860, 'ioc': False, 'liquidation': False, 'market': 'BTC/USD', 'postOnly': False, 'price': 10844.5, 'reduceOnly': False, 'remainingSize': 0.0, 'side': 'sell', 'size': 0.2439, 'status': 'closed', 'type': 'limit'}, {'avgFillPrice': 10850.0, 'clientId': None, 'createdAt': '2020-09-17T16:10:33.300360+00:00', 'filledSize': 0.2441, 'future': None, 'id': 9899975728, 'ioc': False, 'liquidation': False, 'market': 'BTC/USD', 'postOnly': False, 'price': 10850.0, 'reduceOnly': False, 'remainingSize': 0.0, 'side': 'buy', 'size': 0.2441, 'status': 'closed', 'type': 'limit'}, {'avgFillPrice': 10846.637740483013, 'clientId': None, 'createdAt': '2020-09-17T15:44:08.379008+00:00', 'filledSize': 0.2443, 'future': None, 'id': 9898692721, 'ioc': False, 'liquidation': False, 'market': 'BTC/USD', 'postOnly': False, 'price': 10845.0, 'reduceOnly': False, 'remainingSize': 0.0, 'side': 'sell', 'size': 0.2443, 'status': 'closed', 'type': 'limit'}, {'avgFillPrice': 10850.0, 'clientId': None, 'createdAt': '2020-09-17T15:43:14.491771+00:00', 'filledSize': 0.2443, 'future': None, 'id': 9898647864, 'ioc': False, 'liquidation': False, 'market': 'BTC/USD', 'postOnly': False, 'price': 10850.0, 'reduceOnly': False, 'remainingSize': 0.0, 'side': 'buy', 'size': 0.2443, 'status': 'closed', 'type': 'limit'}, {'avgFillPrice': 11802.5, 'clientId': None, 'createdAt': '2020-08-07T06:16:51.082139+00:00', 'filledSize': 0.2243, 'future': None, 'id': 7357639657, 'ioc': False, 'liquidation': False, 'market': 'BTC/USD', 'postOnly': False, 'price': 11802.5, 'reduceOnly': False, 'remainingSize': 0.0, 'side': 'buy', 'size': 0.2243, 'status': 'closed', 'type': 'limit'}, {'avgFillPrice': 11798.00089047195, 'clientId': None, 'createdAt': '2020-08-07T05:32:57.851538+00:00', 'filledSize': 0.2246, 'future': None, 'id': 7356643110, 'ioc': False, 'liquidation': False, 'market': 'BTC/USD', 'postOnly': False, 'price': 11791.5, 'reduceOnly': False, 'remainingSize': 0.0, 'side': 'sell', 'size': 0.2246, 'status': 'closed', 'type': 'limit'}, {'avgFillPrice': 11788.5, 'clientId': None, 'createdAt': '2020-08-07T05:19:13.463295+00:00', 'filledSize': 0.2247, 'future': None, 'id': 7356348041, 'ioc': False, 'liquidation': False, 'market': 'BTC/USD', 'postOnly': False, 'price': 11788.5, 'reduceOnly': False, 'remainingSize': 0.0, 'side': 'buy', 'size': 0.2247, 'status': 'closed', 'type': 'limit'}]\n",
      "\n",
      "\n",
      "{'avgFillPrice': 10850.0, 'clientId': None, 'createdAt': '2020-09-17T16:10:33.300360+00:00', 'filledSize': 0.2441, 'future': None, 'id': 9899975728, 'ioc': False, 'liquidation': False, 'market': 'BTC/USD', 'postOnly': False, 'price': 10850.0, 'reduceOnly': False, 'remainingSize': 0.0, 'side': 'buy', 'size': 0.2441, 'status': 'closed', 'type': 'limit'}\n",
      "{'avgFillPrice': 10850.0, 'clientId': None, 'createdAt': '2020-09-17T15:43:14.491771+00:00', 'filledSize': 0.2443, 'future': None, 'id': 9898647864, 'ioc': False, 'liquidation': False, 'market': 'BTC/USD', 'postOnly': False, 'price': 10850.0, 'reduceOnly': False, 'remainingSize': 0.0, 'side': 'buy', 'size': 0.2443, 'status': 'closed', 'type': 'limit'}\n",
      "{'avgFillPrice': 11802.5, 'clientId': None, 'createdAt': '2020-08-07T06:16:51.082139+00:00', 'filledSize': 0.2243, 'future': None, 'id': 7357639657, 'ioc': False, 'liquidation': False, 'market': 'BTC/USD', 'postOnly': False, 'price': 11802.5, 'reduceOnly': False, 'remainingSize': 0.0, 'side': 'buy', 'size': 0.2243, 'status': 'closed', 'type': 'limit'}\n",
      "{'avgFillPrice': 11788.5, 'clientId': None, 'createdAt': '2020-08-07T05:19:13.463295+00:00', 'filledSize': 0.2247, 'future': None, 'id': 7356348041, 'ioc': False, 'liquidation': False, 'market': 'BTC/USD', 'postOnly': False, 'price': 11788.5, 'reduceOnly': False, 'remainingSize': 0.0, 'side': 'buy', 'size': 0.2247, 'status': 'closed', 'type': 'limit'}\n",
      "\n",
      "{'avgFillPrice': 10845.0, 'clientId': None, 'createdAt': '2020-09-17T16:10:39.034129+00:00', 'filledSize': 0.2439, 'future': None, 'id': 9899980860, 'ioc': False, 'liquidation': False, 'market': 'BTC/USD', 'postOnly': False, 'price': 10844.5, 'reduceOnly': False, 'remainingSize': 0.0, 'side': 'sell', 'size': 0.2439, 'status': 'closed', 'type': 'limit'}\n",
      "{'avgFillPrice': 10846.637740483013, 'clientId': None, 'createdAt': '2020-09-17T15:44:08.379008+00:00', 'filledSize': 0.2443, 'future': None, 'id': 9898692721, 'ioc': False, 'liquidation': False, 'market': 'BTC/USD', 'postOnly': False, 'price': 10845.0, 'reduceOnly': False, 'remainingSize': 0.0, 'side': 'sell', 'size': 0.2443, 'status': 'closed', 'type': 'limit'}\n",
      "{'avgFillPrice': 11798.00089047195, 'clientId': None, 'createdAt': '2020-08-07T05:32:57.851538+00:00', 'filledSize': 0.2246, 'future': None, 'id': 7356643110, 'ioc': False, 'liquidation': False, 'market': 'BTC/USD', 'postOnly': False, 'price': 11791.5, 'reduceOnly': False, 'remainingSize': 0.0, 'side': 'sell', 'size': 0.2246, 'status': 'closed', 'type': 'limit'}\n"
     ]
    }
   ],
   "source": [
    "# Check order status\n",
    "def print_side_orders(side):\n",
    "    orders = client.get_order_history(market=curr_symbol)\n",
    "    for order in orders:\n",
    "        if order['side'] == side:\n",
    "            print(order)\n",
    "\n",
    "orders = client.get_open_orders(market=curr_symbol)\n",
    "print('open orders: ', orders)\n",
    "history = client.get_order_history(market=curr_symbol)\n",
    "print(len(history))\n",
    "print(history)\n",
    "print()\n",
    "# print(history[0])\n",
    "# print(history[1])\n",
    "print()\n",
    "\n",
    "print_side_orders('buy')\n",
    "print()\n",
    "print_side_orders('sell')\n",
    "\n",
    "# exitLong(price)"
   ]
  },
  {
   "cell_type": "markdown",
   "metadata": {},
   "source": [
    "### Trading Functions"
   ]
  },
  {
   "cell_type": "code",
   "execution_count": 30,
   "metadata": {},
   "outputs": [],
   "source": [
    "def enterLong(price):\n",
    "    curr_usd = max(client.get_balance('USD'), 500.0)\n",
    "    usd_per_btc = client.get_price(curr_symbol)\n",
    "    btc = curr_usd / usd_per_btc\n",
    "    newprice = price + 1\n",
    "    \n",
    "    # Market order\n",
    "    result = client.place_order(market=curr_symbol, side='buy', price=price, size=btc, type='limit')\n",
    "    print('res: ', result)\n",
    "    orderid = result['id']\n",
    "    \n",
    "    # Wait for market order to get filled\n",
    "    start_time = time.time()\n",
    "    while True:\n",
    "        try:\n",
    "            status = client.get_order_status(orderid)['status'] \n",
    "        except Exception as e:\n",
    "            print_log('Error in enterLong: ' + repr(e))\n",
    "            \n",
    "        if status == 'closed':\n",
    "            break\n",
    "            \n",
    "        if time.time() - start_time > 60 * 60: # 1 hour\n",
    "            print_log('Waited too long in enterLong')\n",
    "            temp = 1/0 # Exit the script\n",
    "            \n",
    "        time.sleep(3)\n",
    "        \n",
    "    return orderid\n",
    "    \n",
    "def exitLong():\n",
    "    curr_btc = client.get_balance('BTC')\n",
    "#     print('curr_btc: ', curr_btc)\n",
    "    curr_usdvalue = client.get_usdValue('BTC')\n",
    "    price = curr_usdvalue / curr_btc\n",
    "    newprice = price - 5\n",
    "    \n",
    "    result = client.place_order(market=curr_symbol, side='sell', price=newprice, size=curr_btc, type='limit', ioc=False)\n",
    "    print('res: ', result)\n",
    "    \n",
    "    orderid = result['id']\n",
    "    \n",
    "    # Wait for market order to get filled\n",
    "#     while client.get_order_status(orderid)['status'] != 'closed':\n",
    "#         time.sleep(3)\n",
    "        \n",
    "    start_time = time.time()\n",
    "    while True:\n",
    "        try:\n",
    "            status = client.get_order_status(orderid)['status'] \n",
    "        except Exception as e:\n",
    "            print_log('Error in enterLong: ' + repr(e))\n",
    "            \n",
    "        if status == 'closed':\n",
    "            break\n",
    "            \n",
    "        if time.time() - start_time > 60 * 60: # 1 hour\n",
    "            print_log('Waited too long in exitLong')\n",
    "            temp = 1/0\n",
    "            \n",
    "        time.sleep(3)\n",
    "        \n",
    "    return orderid"
   ]
  },
  {
   "cell_type": "markdown",
   "metadata": {},
   "source": [
    "### Initialize variables (balance, orderDetails, activeLong, etc)"
   ]
  },
  {
   "cell_type": "code",
   "execution_count": 31,
   "metadata": {},
   "outputs": [],
   "source": [
    "gap = 100.0\n",
    "rsi_low_thresh = 33.0\n",
    "\n",
    "activeLong = False\n",
    "enterPrice = None\n",
    "exitPrice = None\n",
    "enterTime = None"
   ]
  },
  {
   "cell_type": "markdown",
   "metadata": {},
   "source": [
    "### Main Loop"
   ]
  },
  {
   "cell_type": "code",
   "execution_count": 32,
   "metadata": {},
   "outputs": [
    {
     "name": "stdout",
     "output_type": "stream",
     "text": [
      "stochRSI:  74.69567575671303\n",
      "stochRSI:  74.69567575671303\n",
      "stochRSI:  74.69567575671303\n",
      "stochRSI:  74.69567575671303\n",
      "stochRSI:  74.69567575671303\n"
     ]
    },
    {
     "ename": "KeyboardInterrupt",
     "evalue": "",
     "output_type": "error",
     "traceback": [
      "\u001b[0;31m---------------------------------------------------------------------------\u001b[0m",
      "\u001b[0;31mKeyboardInterrupt\u001b[0m                         Traceback (most recent call last)",
      "\u001b[0;32m<ipython-input-32-f07915e21302>\u001b[0m in \u001b[0;36m<module>\u001b[0;34m\u001b[0m\n\u001b[1;32m      1\u001b[0m \u001b[0;32mwhile\u001b[0m \u001b[0;32mTrue\u001b[0m\u001b[0;34m:\u001b[0m\u001b[0;34m\u001b[0m\u001b[0;34m\u001b[0m\u001b[0m\n\u001b[0;32m----> 2\u001b[0;31m     \u001b[0mtime\u001b[0m\u001b[0;34m.\u001b[0m\u001b[0msleep\u001b[0m\u001b[0;34m(\u001b[0m\u001b[0;36m5\u001b[0m\u001b[0;34m)\u001b[0m\u001b[0;34m\u001b[0m\u001b[0;34m\u001b[0m\u001b[0m\n\u001b[0m\u001b[1;32m      3\u001b[0m \u001b[0;34m\u001b[0m\u001b[0m\n\u001b[1;32m      4\u001b[0m     \u001b[0;32mtry\u001b[0m\u001b[0;34m:\u001b[0m\u001b[0;34m\u001b[0m\u001b[0;34m\u001b[0m\u001b[0m\n\u001b[1;32m      5\u001b[0m         \u001b[0mcurrPrice\u001b[0m \u001b[0;34m=\u001b[0m \u001b[0mclient\u001b[0m\u001b[0;34m.\u001b[0m\u001b[0mget_price\u001b[0m\u001b[0;34m(\u001b[0m\u001b[0mcurr_symbol\u001b[0m\u001b[0;34m)\u001b[0m\u001b[0;34m\u001b[0m\u001b[0;34m\u001b[0m\u001b[0m\n",
      "\u001b[0;31mKeyboardInterrupt\u001b[0m: "
     ]
    }
   ],
   "source": [
    "while True:\n",
    "    time.sleep(5)\n",
    "    \n",
    "    try:\n",
    "        currPrice = client.get_price(curr_symbol)\n",
    "    except Exception as e:\n",
    "        print_log('Error in currPrice: ' + repr(e))\n",
    "        continue\n",
    "    nearestMult = (currPrice//gap) * gap\n",
    "    modPrice = currPrice - nearestMult\n",
    "    centPrice = currPrice // gap\n",
    "    \n",
    "    currTime = int(time.time())\n",
    "    \n",
    "    # Get RSI\n",
    "    rsi = get_RSI()\n",
    "    print('stochRSI: ', rsi)\n",
    "#     print(type(newestK))\n",
    "    \n",
    "    if not activeLong and rsi < rsi_low_thresh and modPrice <= 0.2*gap:\n",
    "        oldBalance = client.get_balance('USD')\n",
    "        orderid = enterLong(currPrice)\n",
    "        print('Entering long with {} USD at {}'.format(oldBalance, currPrice))\n",
    "        activeLong = True\n",
    "        enterPrice = currPrice + 1\n",
    "        enterTime = int(time.time())\n",
    "        humanTime = datetime.datetime.fromtimestamp(enterTime).strftime('%Y-%m-%d %H:%M:%S')\n",
    "        print_log('Entering long with {} USD at {} at {} orderid = {}'.format(oldBalance, enterPrice, humanTime, orderid))\n",
    "        \n",
    "    if activeLong and enterPrice < currPrice and modPrice >= 0.8*gap:\n",
    "        orderid = exitLong()\n",
    "        print('Exiting long at {}'.format(currPrice))\n",
    "        humanTime = datetime.datetime.fromtimestamp(currTime).strftime('%Y-%m-%d %H:%M:%S')\n",
    "        logTrade(oldBalance, newBalance=client.get_balance('USD'), branch='Success', enterTime=humanTime, enterPrice=enterPrice, exitPrice=currPrice, orderid=orderid)\n",
    "        activeLong = False\n",
    "        \n",
    "    if activeLong and enterPrice - currPrice > 0.5*gap:\n",
    "        orderid = exitLong()\n",
    "        exitPrice = currPrice - 5\n",
    "        print('Exiting long at {}'.format(exitPrice))\n",
    "        activeLong = False\n",
    "        humanTime = datetime.datetime.fromtimestamp(enterTime).strftime('%Y-%m-%d %H:%M:%S')\n",
    "        logTrade(oldBalance, newBalance=client.get_balance('USD'), branch='Cut loss', enterTime=humanTime, enterPrice=enterPrice, exitPrice=currPrice, orderid=orderid)"
   ]
  }
 ],
 "metadata": {
  "kernelspec": {
   "display_name": "Python 3",
   "language": "python",
   "name": "python3"
  },
  "language_info": {
   "codemirror_mode": {
    "name": "ipython",
    "version": 3
   },
   "file_extension": ".py",
   "mimetype": "text/x-python",
   "name": "python",
   "nbconvert_exporter": "python",
   "pygments_lexer": "ipython3",
   "version": "3.6.9"
  }
 },
 "nbformat": 4,
 "nbformat_minor": 4
}
