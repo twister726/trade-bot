{
 "cells": [
  {
   "cell_type": "code",
   "execution_count": 1,
   "metadata": {},
   "outputs": [],
   "source": [
    "# import talib\n",
    "import numpy as np\n",
    "import requests\n",
    "import matplotlib.pyplot as plt\n",
    "import pandas as pd\n",
    "import time\n",
    "from ciso8601 import parse_datetime\n",
    "from collections import deque\n",
    "\n",
    "from ftx_client import FtxClient\n",
    "from websocket_client import FtxWebsocketClient"
   ]
  },
  {
   "cell_type": "code",
   "execution_count": 2,
   "metadata": {},
   "outputs": [],
   "source": [
    "api_key = '4MZCayt-zZKp3QQFOBgPFdwOK5B1zoxJPMeFAGKz'\n",
    "api_secret = 'cfQxfctS5j7lR0iq-iGsiItt4znrH9P4AkF-IzMH'\n",
    "\n",
    "market = 'BTC-PERP'\n",
    "TRADE_WINDOW_T = 5.0\n",
    "TRADE_WINDOW_MAXLEN = 1000"
   ]
  },
  {
   "cell_type": "code",
   "execution_count": 3,
   "metadata": {},
   "outputs": [],
   "source": [
    "trade_window = deque([], maxlen=TRADE_WINDOW_MAXLEN)\n",
    "\n",
    "client = FtxClient(api_key=api_key, api_secret=api_secret)\n",
    "wsclient = FtxWebsocketClient(api_key=api_key, api_secret=api_secret, trade_window=trade_window, WINDOW_T=TRADE_WINDOW_T)\n",
    "wsclient._login()"
   ]
  },
  {
   "cell_type": "markdown",
   "metadata": {},
   "source": [
    "## WebSocket tryout"
   ]
  },
  {
   "cell_type": "code",
   "execution_count": 4,
   "metadata": {},
   "outputs": [
    {
     "name": "stdout",
     "output_type": "stream",
     "text": [
      "0\n"
     ]
    }
   ],
   "source": [
    "trades = wsclient.get_trades(market)\n",
    "print(len(trades))\n",
    "# print(trades[-1])"
   ]
  },
  {
   "cell_type": "code",
   "execution_count": 105,
   "metadata": {},
   "outputs": [
    {
     "name": "stdout",
     "output_type": "stream",
     "text": [
      "9\n",
      "[{'id': 286044105, 'price': 31096.5, 'size': 0.0107, 'side': 'buy', 'liquidation': False, 'time': '2021-01-05T08:49:37.480376+00:00'}]\n"
     ]
    }
   ],
   "source": [
    "trades = wsclient.get_trades(market)\n",
    "print(len(trades))\n",
    "print(trades[-1])"
   ]
  },
  {
   "cell_type": "markdown",
   "metadata": {},
   "source": [
    "## REST tryout"
   ]
  },
  {
   "cell_type": "code",
   "execution_count": 4,
   "metadata": {},
   "outputs": [
    {
     "name": "stdout",
     "output_type": "stream",
     "text": [
      "Adding 20 trades with end time None\n",
      "20\n",
      "1609804966.267845\n",
      "1609804970.002477\n",
      "[{'id': 284613334, 'liquidation': False, 'price': 32237.5, 'side': 'buy', 'size': 0.0392, 'time': '2021-01-05T00:02:50.002477+00:00'}, {'id': 284613328, 'liquidation': False, 'price': 32237.5, 'side': 'buy', 'size': 0.2823, 'time': '2021-01-05T00:02:49.970710+00:00'}, {'id': 284613259, 'liquidation': False, 'price': 32237.5, 'side': 'buy', 'size': 0.0062, 'time': '2021-01-05T00:02:49.516374+00:00'}, {'id': 284613258, 'liquidation': False, 'price': 32237.5, 'side': 'buy', 'size': 0.0218, 'time': '2021-01-05T00:02:49.515794+00:00'}, {'id': 284613160, 'liquidation': False, 'price': 32231.5, 'side': 'sell', 'size': 0.0009, 'time': '2021-01-05T00:02:48.581703+00:00'}, {'id': 284613159, 'liquidation': False, 'price': 32234.5, 'side': 'sell', 'size': 0.0001, 'time': '2021-01-05T00:02:48.580438+00:00'}, {'id': 284613158, 'liquidation': False, 'price': 32234.5, 'side': 'sell', 'size': 0.0117, 'time': '2021-01-05T00:02:48.554600+00:00'}, {'id': 284613089, 'liquidation': False, 'price': 32232.0, 'side': 'sell', 'size': 0.024, 'time': '2021-01-05T00:02:47.894531+00:00'}, {'id': 284613028, 'liquidation': False, 'price': 32232.0, 'side': 'buy', 'size': 0.03, 'time': '2021-01-05T00:02:47.630744+00:00'}, {'id': 284613022, 'liquidation': False, 'price': 32231.5, 'side': 'sell', 'size': 0.0325, 'time': '2021-01-05T00:02:47.591714+00:00'}, {'id': 284612999, 'liquidation': False, 'price': 32232.0, 'side': 'buy', 'size': 0.0075, 'time': '2021-01-05T00:02:47.433608+00:00'}, {'id': 284612956, 'liquidation': False, 'price': 32235.0, 'side': 'buy', 'size': 0.0053, 'time': '2021-01-05T00:02:47.070580+00:00'}, {'id': 284612942, 'liquidation': False, 'price': 32235.0, 'side': 'buy', 'size': 0.0033, 'time': '2021-01-05T00:02:47.010012+00:00'}, {'id': 284612932, 'liquidation': False, 'price': 32241.5, 'side': 'buy', 'size': 0.0226, 'time': '2021-01-05T00:02:46.939226+00:00'}, {'id': 284612913, 'liquidation': False, 'price': 32239.5, 'side': 'buy', 'size': 0.0111, 'time': '2021-01-05T00:02:46.800325+00:00'}, {'id': 284612829, 'liquidation': False, 'price': 32233.0, 'side': 'buy', 'size': 0.425, 'time': '2021-01-05T00:02:46.393409+00:00'}, {'id': 284612813, 'liquidation': False, 'price': 32243.5, 'side': 'buy', 'size': 0.124, 'time': '2021-01-05T00:02:46.268767+00:00'}, {'id': 284612812, 'liquidation': False, 'price': 32243.5, 'side': 'buy', 'size': 0.0967, 'time': '2021-01-05T00:02:46.267845+00:00'}, {'id': 284612811, 'liquidation': False, 'price': 32241.5, 'side': 'buy', 'size': 0.3725, 'time': '2021-01-05T00:02:46.267845+00:00'}, {'id': 284612810, 'liquidation': False, 'price': 32238.5, 'side': 'buy', 'size': 0.1516, 'time': '2021-01-05T00:02:46.267845+00:00'}]\n"
     ]
    }
   ],
   "source": [
    "trades = client.get_all_trades(market)\n",
    "print(len(trades))\n",
    "\n",
    "end_time = min(parse_datetime(t['time']) for t in trades).timestamp()\n",
    "print(end_time)\n",
    "temp = max(parse_datetime(t['time']) for t in trades).timestamp()\n",
    "print(temp)\n",
    "\n",
    "print(trades)"
   ]
  }
 ],
 "metadata": {
  "kernelspec": {
   "display_name": "Python 3",
   "language": "python",
   "name": "python3"
  },
  "language_info": {
   "codemirror_mode": {
    "name": "ipython",
    "version": 3
   },
   "file_extension": ".py",
   "mimetype": "text/x-python",
   "name": "python",
   "nbconvert_exporter": "python",
   "pygments_lexer": "ipython3",
   "version": "3.6.9"
  }
 },
 "nbformat": 4,
 "nbformat_minor": 4
}
